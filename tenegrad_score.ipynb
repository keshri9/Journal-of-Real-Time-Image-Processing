{
  "nbformat": 4,
  "nbformat_minor": 0,
  "metadata": {
    "colab": {
      "provenance": []
    },
    "kernelspec": {
      "name": "python3",
      "display_name": "Python 3"
    },
    "language_info": {
      "name": "python"
    }
  },
  "cells": [
    {
      "source": [
        "import cv2\n",
        "import os\n",
        "\n",
        "def tenengrad_score(image_path):\n",
        "    # Check if the file exists before attempting to read it\n",
        "    if not os.path.exists(image_path):\n",
        "        print(f\"Error: Image not found at {image_path}\")\n",
        "        return None  # Return None if the image is not found\n",
        "\n",
        "    image = cv2.imread(image_path, cv2.IMREAD_GRAYSCALE)\n",
        "\n",
        "    # Check if the image was loaded successfully\n",
        "    if image is None:\n",
        "        print(f\"Error: Could not read image at {image_path}\")\n",
        "        return None  # Return None if the image could not be read\n",
        "\n",
        "    gx = cv2.Sobel(image, cv2.CV_64F, 1, 0, ksize=3)\n",
        "    gy = cv2.Sobel(image, cv2.CV_64F, 0, 1, ksize=3)\n",
        "    gradient_magnitude = cv2.magnitude(gx, gy)\n",
        "    tenengrad = (gradient_magnitude ** 2).sum()\n",
        "    return tenengrad\n",
        "\n",
        "image_paths = [\n",
        "    '/content/50ap=16c.JPG',\n",
        "    '/content/60ap=16c.JPG',\n",
        "    '/content/70ap=16c.JPG',\n",
        "    '/content/80ap=16c.JPG',\n",
        "    '/content/90ap=16c.JPG',\n",
        "    '/content/100ap=16c.JPG',\n",
        "    '/content/110ap=16c.JPG',\n",
        "\n",
        "]\n",
        "\n",
        "for image_path in image_paths:\n",
        "    score = tenengrad_score(image_path)\n",
        "    if score is not None:  # Only print the score if the image was processed successfully\n",
        "        print(f'Tenengrad score for the image {image_path}: {score}')"
      ],
      "cell_type": "code",
      "metadata": {
        "colab": {
          "base_uri": "https://localhost:8080/"
        },
        "id": "CtB_pe9JEXDs",
        "outputId": "23314517-a2e9-4d72-9ee0-00ea0bb98f96"
      },
      "execution_count": null,
      "outputs": [
        {
          "output_type": "stream",
          "name": "stdout",
          "text": [
            "Tenengrad score for the image /content/50ap=16c.JPG: 1014861406.0\n",
            "Tenengrad score for the image /content/60ap=16c.JPG: 1236168822.0\n",
            "Tenengrad score for the image /content/70ap=16c.JPG: 2079828754.0\n",
            "Tenengrad score for the image /content/80ap=16c.JPG: 1786515198.0\n",
            "Tenengrad score for the image /content/90ap=16c.JPG: 1059655392.0\n",
            "Tenengrad score for the image /content/100ap=16c.JPG: 734354904.0\n",
            "Tenengrad score for the image /content/110ap=16c.JPG: 1143980506.0\n"
          ]
        }
      ]
    }
  ]
}