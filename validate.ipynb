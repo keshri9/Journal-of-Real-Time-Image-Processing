{
 "cells": [
  {
   "cell_type": "code",
   "execution_count": 1,
   "id": "d19b17ff",
   "metadata": {},
   "outputs": [
    {
     "name": "stdout",
     "output_type": "stream",
     "text": [
      "Cross-Validation R^2 Scores: [1. 1. 1. 1. 1.]\n",
      "Mean R^2 Score: 1.0\n",
      "Cross-Validation Adjusted R^2 Scores: [1. 1. 1. 1. 1.]\n",
      "Mean Adjusted R^2 Score: 1.0\n",
      "Cross-Validation RMSE Scores: [8.70383371e-13 8.78335660e-13 8.95764837e-13 8.94245048e-13\n",
      " 8.81437298e-13]\n",
      "Mean RMSE Score: 8.840332428116105e-13\n"
     ]
    },
    {
     "data": {
      "image/png": "[encoded data removed]",
      "text/plain": [
       "<Figure size 432x288 with 1 Axes>"
      ]
     },
     "metadata": {
      "needs_background": "light"
     },
     "output_type": "display_data"
    },
    {
     "data": {
      "image/png": "[encoded data removed]",
      "text/plain": [
       "<Figure size 432x288 with 1 Axes>"
      ]
     },
     "metadata": {
      "needs_background": "light"
     },
     "output_type": "display_data"
    }
   ],
   "source": [
    "import numpy as np\n",
    "import pandas as pd\n",
    "from sklearn.ensemble import RandomForestRegressor\n",
    "from sklearn.model_selection import train_test_split, KFold, cross_val_score\n",
    "from sklearn.metrics import r2_score, mean_squared_error, make_scorer\n",
    "import matplotlib.pyplot as plt\n",
    "\n",
    "\n",
    "\n",
    "# Load the data\n",
    "dataset = pd.read_csv('tenegrad_rf.csv')\n",
    "# Sample dataset (replace with your actual data)\n",
    "# X should be your features (e.g., focus, aperture, Tenegrad score)\n",
    "# y should be your target variable (e.g., predicted distance)\n",
    "# X = ...\n",
    "# y = ...\n",
    "# Split the data into train and test sets\n",
    "X = dataset.drop(columns=['A', 'focus', 'score'])\n",
    "y = dataset['Pred_dist']\n",
    "\n",
    "# Split the data into training and testing sets (if not already split)\n",
    "X_train, X_test, y_train, y_test = train_test_split(X, y, test_size=0.2, random_state=42)\n",
    "\n",
    "# Initialize the Random Forest Regressor\n",
    "rf_regressor = RandomForestRegressor(n_estimators=100, random_state=42)\n",
    "\n",
    "# Train the model on the training data\n",
    "rf_regressor.fit(X_train, y_train)\n",
    "\n",
    "# Define K-Fold cross-validation\n",
    "kf = KFold(n_splits=5, shuffle=True, random_state=42)\n",
    "\n",
    "# Perform cross-validation using R^2 as the scoring metric\n",
    "cv_r2_scores = cross_val_score(rf_regressor, X, y, cv=kf, scoring='r2')\n",
    "\n",
    "# Print the R^2 scores for each fold\n",
    "print(f\"Cross-Validation R^2 Scores: {cv_r2_scores}\")\n",
    "print(f\"Mean R^2 Score: {cv_r2_scores.mean()}\")\n",
    "\n",
    "# Calculate Adjusted R^2 manually for each fold\n",
    "adjusted_r2_scores = []\n",
    "\n",
    "for train_index, test_index in kf.split(X):\n",
    "    # Use .iloc to index by row position\n",
    "    X_train_fold, X_test_fold = X.iloc[train_index], X.iloc[test_index]  \n",
    "    y_train_fold, y_test_fold = y.iloc[train_index], y.iloc[test_index] \n",
    "    \n",
    "    # Train the model on the fold\n",
    "    rf_regressor.fit(X_train_fold, y_train_fold)\n",
    "    \n",
    "    # Predict on the fold's test set\n",
    "    y_pred_fold = rf_regressor.predict(X_test_fold)\n",
    "    \n",
    "    # Calculate R^2 for the fold\n",
    "    r2_fold = r2_score(y_test_fold, y_pred_fold)\n",
    "    \n",
    "    # Calculate Adjusted R^2 for the fold\n",
    "    n = len(y_test_fold)\n",
    "    k = X_test_fold.shape[1]\n",
    "    adjusted_r2_fold = 1 - ((1 - r2_fold) * (n - 1) / (n - k - 1))\n",
    "    adjusted_r2_scores.append(adjusted_r2_fold)\n",
    "\n",
    "# Convert to numpy array for easier analysis\n",
    "adjusted_r2_scores = np.array(adjusted_r2_scores)\n",
    "\n",
    "# Print Adjusted R^2 scores\n",
    "print(f\"Cross-Validation Adjusted R^2 Scores: {adjusted_r2_scores}\")\n",
    "print(f\"Mean Adjusted R^2 Score: {adjusted_r2_scores.mean()}\")\n",
    "\n",
    "# Optional: Perform cross-validation with RMSE as an additional metric\n",
    "rmse_scorer = make_scorer(mean_squared_error, squared=False)\n",
    "cv_rmse_scores = cross_val_score(rf_regressor, X, y, cv=kf, scoring=rmse_scorer)\n",
    "\n",
    "# Print RMSE scores\n",
    "print(f\"Cross-Validation RMSE Scores: {cv_rmse_scores}\")\n",
    "print(f\"Mean RMSE Score: {cv_rmse_scores.mean()}\")\n",
    "\n",
    "# Feature importance (optional)\n",
    "importances = rf_regressor.feature_importances_\n",
    "features = ['A', 'score']  # Replace with your actual feature names\n",
    "plt.barh(features, importances)\n",
    "plt.xlabel('Importance')\n",
    "plt.ylabel('Feature')\n",
    "plt.title('Feature Importance in Random Forest Regressor')\n",
    "plt.show()\n",
    "\n",
    "# Residual analysis (optional)\n",
    "y_pred_test = rf_regressor.predict(X_test)\n",
    "residuals = y_test - y_pred_test\n",
    "plt.scatter(y_pred_test, residuals)\n",
    "plt.axhline(y=0, color='r', linestyle='--')\n",
    "plt.xlabel('Predicted Values')\n",
    "plt.ylabel('Residuals')\n",
    "plt.title('Residual Plot')\n",
    "plt.show()"
   ]
  },
  {
   "cell_type": "code",
   "execution_count": null,
   "id": "bbf7eaac",
   "metadata": {},
   "outputs": [],
   "source": []
  }
 ],
 "metadata": {
  "kernelspec": {
   "display_name": "Python 3 (ipykernel)",
   "language": "python",
   "name": "python3"
  },
  "language_info": {
   "codemirror_mode": {
    "name": "ipython",
    "version": 3
   },
   "file_extension": ".py",
   "mimetype": "text/x-python",
   "name": "python",
   "nbconvert_exporter": "python",
   "pygments_lexer": "ipython3",
   "version": "3.9.9"
  }
 },
 "nbformat": 4,
 "nbformat_minor": 5
}
