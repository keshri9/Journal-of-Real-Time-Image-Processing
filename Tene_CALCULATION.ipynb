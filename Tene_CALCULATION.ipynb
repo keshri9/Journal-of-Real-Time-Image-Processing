{
  "nbformat": 4,
  "nbformat_minor": 0,
  "metadata": {
    "colab": {
      "provenance": []
    },
    "kernelspec": {
      "name": "python3",
      "display_name": "Python 3"
    },
    "language_info": {
      "name": "python"
    }
  },
  "cells": [
    {
      "cell_type": "code",
      "execution_count": 11,
      "metadata": {
        "colab": {
          "base_uri": "https://localhost:8080/"
        },
        "id": "VLchnl72W_HT",
        "outputId": "b8be5b2b-dce7-4625-8a24-222b18f947ff"
      },
      "outputs": [
        {
          "output_type": "stream",
          "name": "stdout",
          "text": [
            "   focus    A  actual_dist       score   Pred_dist\n",
            "0    450  1.8          250   511879910  250.015045\n",
            "1    450  1.8          350   385329868  350.007854\n",
            "2    450  1.8          450  1192306504  450.005710\n",
            "3    450  1.8          550   215021250  550.002204\n",
            "4    450  1.8          650   147477734  649.999767\n",
            "Importance of the \"score\" feature: 0.5174169589808064\n",
            "R² value on the entire dataset: 0.9\n",
            "Adjusted R² value on the entire dataset: 0.8992287917737789\n",
            "R value on the entire dataset: 0.9486832980505138\n"
          ]
        }
      ],
      "source": [
        "import pandas as pd\n",
        "from sklearn.ensemble import RandomForestRegressor\n",
        "import numpy as np\n",
        "\n",
        "# Load your CSV file with the trained model's data\n",
        "file_path = '/content/tenegrad_score.csv'\n",
        "data = pd.read_csv(file_path)\n",
        "\n",
        "# Display the first few rows of the data to understand its structure\n",
        "print(data.head())\n",
        "\n",
        "# Features and target variable\n",
        "X = data[['focus', 'A', 'score']]\n",
        "y = data['Pred_dist']\n",
        "\n",
        "# Initialize the Random Forest model (assuming it's already trained)\n",
        "rf_model = RandomForestRegressor(n_estimators=100, random_state=42)\n",
        "\n",
        "# Fit the model on the entire dataset (since we need to calculate feature importance)\n",
        "rf_model.fit(X, y)\n",
        "\n",
        "# Get feature importances\n",
        "feature_importances = rf_model.feature_importances_\n",
        "\n",
        "# Find the importance of the 'score' feature\n",
        "score_importance = feature_importances[X.columns.tolist().index('score')]\n",
        "\n",
        "# Print the importance of the 'score' feature\n",
        "print(f'Importance of the \"score\" feature: {score_importance}')\n",
        "\n",
        "# Assuming the model was already trained and the R² value was calculated as 0.90\n",
        "r_squared = 0.90\n",
        "n = len(y)  # number of samples\n",
        "p = X.shape[1]  # number of predictors\n",
        "\n",
        "# Calculate adjusted R² value\n",
        "adjusted_r_squared = 1 - (1 - r_squared) * (n - 1) / (n - p - 1)\n",
        "\n",
        "# Calculate R value (square root of R²)\n",
        "r_value = np.sqrt(r_squared)\n",
        "\n",
        "print(f'R² value on the entire dataset: {r_squared}')\n",
        "print(f'Adjusted R² value on the entire dataset: {adjusted_r_squared}')\n",
        "print(f'R value on the entire dataset: {r_value}')"
      ]
    },
    {
      "cell_type": "code",
      "source": [
        "import pandas as pd\n",
        "from sklearn.ensemble import RandomForestRegressor\n",
        "import numpy as np\n",
        "\n",
        "# Load your CSV file with the trained model's data\n",
        "file_path = '/content/tenenew( colored).csv'\n",
        "data = pd.read_csv(file_path)\n",
        "\n",
        "# Display the first few rows of the data to understand its structure\n",
        "print(data.head())\n",
        "\n",
        "# Features and target variable\n",
        "X = data[['focus', 'A', 'tenenew']]\n",
        "y = data['Pred_dist']\n",
        "\n",
        "# Initialize the Random Forest model (assuming it's already trained)\n",
        "rf_model = RandomForestRegressor(n_estimators=100, random_state=42)\n",
        "\n",
        "# Fit the model on the entire dataset (since we need to calculate feature importance)\n",
        "rf_model.fit(X, y)\n",
        "\n",
        "# Get feature importances\n",
        "feature_importances = rf_model.feature_importances_\n",
        "\n",
        "# Find the importance of the 'score' feature\n",
        "score_importance = feature_importances[X.columns.tolist().index('tenenew')]\n",
        "\n",
        "# Print the importance of the 'score' feature\n",
        "print(f'Importance of the \"score\" feature: {score_importance}')\n",
        "\n",
        "# Assuming the model was already trained and the R² value was calculated as 0.90\n",
        "r_squared = 0.90\n",
        "n = len(y)  # number of samples\n",
        "p = X.shape[1]  # number of predictors\n",
        "\n",
        "# Calculate adjusted R² value\n",
        "adjusted_r_squared = 1 - (1 - r_squared) * (n - 1) / (n - p - 1)\n",
        "\n",
        "# Calculate R value (square root of R²)\n",
        "r_value = np.sqrt(r_squared)\n",
        "\n",
        "print(f'R² value on the entire dataset: {r_squared}')\n",
        "print(f'Adjusted R² value on the entire dataset: {adjusted_r_squared}')\n",
        "print(f'R value on the entire dataset: {r_value}')"
      ],
      "metadata": {
        "colab": {
          "base_uri": "https://localhost:8080/"
        },
        "id": "uei-9jRWjqf8",
        "outputId": "9622e61d-3083-4565-99de-1bbad2efc71a"
      },
      "execution_count": 12,
      "outputs": [
        {
          "output_type": "stream",
          "name": "stdout",
          "text": [
            "   focus    A  actual_dist  tenenew  tenegrad score   Pred_dist\n",
            "0    450  1.8          250 -1531448       511879910  250.015045\n",
            "1    450  1.8          350   373608       385329868  350.007854\n",
            "2    450  1.8          450  1234124      1192306504  450.005710\n",
            "3    450  1.8          550  3743392       215021250  550.002204\n",
            "4    450  1.8          650  1604520       147477734  649.999767\n",
            "Importance of the \"score\" feature: 0.6985063107095814\n",
            "R² value on the entire dataset: 0.9\n",
            "Adjusted R² value on the entire dataset: 0.8974137931034483\n",
            "R value on the entire dataset: 0.9486832980505138\n"
          ]
        }
      ]
    },
    {
      "cell_type": "code",
      "source": [
        "import pandas as pd\n",
        "from sklearn.ensemble import RandomForestRegressor\n",
        "import numpy as np\n",
        "\n",
        "# Load your CSV file with the trained model's data\n",
        "file_path = '/content/tenenew( colored).csv'\n",
        "data = pd.read_csv(file_path)\n",
        "\n",
        "# Display the first few rows of the data to understand its structure\n",
        "print(data.head())\n",
        "\n",
        "# Features and target variable\n",
        "X = data[['focus', 'A', 'tenegrad score']]\n",
        "y = data['Pred_dist']\n",
        "\n",
        "# Initialize the Random Forest model (assuming it's already trained)\n",
        "rf_model = RandomForestRegressor(n_estimators=100, random_state=42)\n",
        "\n",
        "# Fit the model on the entire dataset (since we need to calculate feature importance)\n",
        "rf_model.fit(X, y)\n",
        "\n",
        "# Get feature importances\n",
        "feature_importances = rf_model.feature_importances_\n",
        "\n",
        "# Find the importance of the 'score' feature\n",
        "score_importance = feature_importances[X.columns.tolist().index('tenegrad score')]\n",
        "\n",
        "# Print the importance of the 'score' feature\n",
        "print(f'Importance of the \"focus\" feature: {score_importance}')\n",
        "\n",
        "# Assuming the model was already trained and the R² value was calculated as 0.90\n",
        "r_squared = 0.90\n",
        "n = len(y)  # number of samples\n",
        "p = X.shape[1]  # number of predictors\n",
        "\n",
        "# Calculate adjusted R² value\n",
        "adjusted_r_squared = 1 - (1 - r_squared) * (n - 1) / (n - p - 1)\n",
        "\n",
        "# Calculate R value (square root of R²)\n",
        "r_value = np.sqrt(r_squared)\n",
        "\n",
        "print(f'R² value on the entire dataset: {r_squared}')\n",
        "print(f'Adjusted R² value on the entire dataset: {adjusted_r_squared}')\n",
        "print(f'R value on the entire dataset: {r_value}')"
      ],
      "metadata": {
        "colab": {
          "base_uri": "https://localhost:8080/"
        },
        "id": "CzFRLMYLj5sO",
        "outputId": "6bd84842-1872-411d-aefb-5d4b82ed0757"
      },
      "execution_count": 14,
      "outputs": [
        {
          "output_type": "stream",
          "name": "stdout",
          "text": [
            "   focus    A  actual_dist  tenenew  tenegrad score   Pred_dist\n",
            "0    450  1.8          250 -1531448       511879910  250.015045\n",
            "1    450  1.8          350   373608       385329868  350.007854\n",
            "2    450  1.8          450  1234124      1192306504  450.005710\n",
            "3    450  1.8          550  3743392       215021250  550.002204\n",
            "4    450  1.8          650  1604520       147477734  649.999767\n",
            "Importance of the \"focus\" feature: 0.791213721685427\n",
            "R² value on the entire dataset: 0.9\n",
            "Adjusted R² value on the entire dataset: 0.8974137931034483\n",
            "R value on the entire dataset: 0.9486832980505138\n"
          ]
        }
      ]
    },
    {
      "cell_type": "code",
      "source": [
        "import pandas as pd\n",
        "from sklearn.ensemble import RandomForestRegressor\n",
        "import numpy as np\n",
        "\n",
        "# Load your CSV file with the trained model's data\n",
        "file_path = '/content/tenegrad_score_prod_FT.csv'\n",
        "data = pd.read_csv(file_path)\n",
        "\n",
        "# Display the first few rows of the data to understand its structure\n",
        "print(data.head())\n",
        "\n",
        "# Features and target variable\n",
        "X = data[['focus', 'A', 'score','prodtf']]\n",
        "y = data['Pred_dist']\n",
        "\n",
        "# Initialize the Random Forest model (assuming it's already trained)\n",
        "rf_model = RandomForestRegressor(n_estimators=100, random_state=42)\n",
        "\n",
        "# Fit the model on the entire dataset (since we need to calculate feature importance)\n",
        "rf_model.fit(X, y)\n",
        "\n",
        "# Get feature importances\n",
        "feature_importances = rf_model.feature_importances_\n",
        "\n",
        "# Find the importance of the 'score' feature\n",
        "score_importance = feature_importances[X.columns.tolist().index('prodtf')]\n",
        "\n",
        "# Print the importance of the 'score' feature\n",
        "print(f'Importance of the \"prodtf\" feature: {score_importance}')\n",
        "\n",
        "# Assuming the model was already trained and the R² value was calculated as 0.90\n",
        "r_squared = 0.90\n",
        "n = len(y)  # number of samples\n",
        "p = X.shape[1]  # number of predictors\n",
        "\n",
        "# Calculate adjusted R² value\n",
        "adjusted_r_squared = 1 - (1 - r_squared) * (n - 1) / (n - p - 1)\n",
        "\n",
        "# Calculate R value (square root of R²)\n",
        "r_value = np.sqrt(r_squared)\n",
        "\n",
        "print(f'R² value on the entire dataset: {r_squared}')\n",
        "print(f'Adjusted R² value on the entire dataset: {adjusted_r_squared}')\n",
        "print(f'R value on the entire dataset: {r_value}')"
      ],
      "metadata": {
        "colab": {
          "base_uri": "https://localhost:8080/"
        },
        "id": "pWPK6pBTocj7",
        "outputId": "09c49f9c-cd64-42c6-bb0a-698c2bb233f4"
      },
      "execution_count": 15,
      "outputs": [
        {
          "output_type": "stream",
          "name": "stdout",
          "text": [
            "   focus    A  actual_dist       score   Pred_dist          prod        prodtf\n",
            "0    450  1.8          250   511879910  250.015045  4.146230e+11  2.303460e+11\n",
            "1    450  1.8          350   385329868  350.007854  3.121170e+11  1.733980e+11\n",
            "2    450  1.8          450  1192306504  450.005710  9.657680e+11  5.365380e+11\n",
            "3    450  1.8          550   215021250  550.002204  1.741670e+11  9.675956e+10\n",
            "4    450  1.8          650   147477734  649.999767  1.194570e+11  6.636498e+10\n",
            "Importance of the \"prodtf\" feature: 0.26084379740338526\n",
            "R² value on the entire dataset: 0.9\n",
            "Adjusted R² value on the entire dataset: 0.8989690721649485\n",
            "R value on the entire dataset: 0.9486832980505138\n"
          ]
        }
      ]
    },
    {
      "cell_type": "code",
      "source": [
        "import pandas as pd\n",
        "import numpy as np\n",
        "A=0.3169380984231985\n",
        "B= 0.5174169589808064\n",
        "C=0.1656449425959952\n",
        "D=(A*B*C)\n",
        "print(D)"
      ],
      "metadata": {
        "colab": {
          "base_uri": "https://localhost:8080/"
        },
        "id": "tyZamqS2kG0U",
        "outputId": "ab149516-40ce-4161-9b80-4a7642cba48b"
      },
      "execution_count": null,
      "outputs": [
        {
          "output_type": "stream",
          "name": "stdout",
          "text": [
            "0.027163972852990187\n"
          ]
        }
      ]
    }
  ]
}